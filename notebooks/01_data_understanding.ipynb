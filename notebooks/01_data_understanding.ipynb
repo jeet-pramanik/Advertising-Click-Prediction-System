{
 "cells": [
  {
   "cell_type": "markdown",
   "id": "8b3733cc",
   "metadata": {},
   "source": [
    "# Phase 1: Data Generation, Acquisition and Understanding\n",
    "\n",
    "## Advertising Click Prediction System\n",
    "\n",
    "This notebook covers:\n",
    "- Data generation using synthetic data\n",
    "- Data loading and initial inspection\n",
    "- Basic statistical analysis\n",
    "- Missing value analysis\n",
    "- Target variable distribution\n",
    "- Class imbalance assessment\n",
    "\n",
    "---"
   ]
  },
  {
   "cell_type": "code",
   "execution_count": null,
   "id": "0504016a",
   "metadata": {},
   "outputs": [],
   "source": [
    "# Import required libraries\n",
    "import sys\n",
    "import os\n",
    "import warnings\n",
    "warnings.filterwarnings('ignore')\n",
    "\n",
    "# Add src directory to path\n",
    "sys.path.append(os.path.join(os.getcwd(), '..', 'src'))\n",
    "\n",
    "import pandas as pd\n",
    "import numpy as np\n",
    "import matplotlib.pyplot as plt\n",
    "import seaborn as sns\n",
    "\n",
    "# Set style\n",
    "sns.set_style('whitegrid')\n",
    "plt.rcParams['figure.figsize'] = (12, 6)\n",
    "\n",
    "print(\"✓ Libraries imported successfully\")\n",
    "print(f\"Python version: {sys.version}\")\n",
    "print(f\"Pandas version: {pd.__version__}\")\n",
    "print(f\"NumPy version: {np.__version__}\")"
   ]
  }
 ],
 "metadata": {
  "language_info": {
   "name": "python"
  }
 },
 "nbformat": 4,
 "nbformat_minor": 5
}
